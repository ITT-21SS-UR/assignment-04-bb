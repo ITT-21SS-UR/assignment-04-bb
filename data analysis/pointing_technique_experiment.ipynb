{
 "cells": [
  {
   "cell_type": "markdown",
   "id": "bfc48f0b",
   "metadata": {},
   "source": [
    "# Pointing Experiment"
   ]
  },
  {
   "cell_type": "markdown",
   "id": "0d309223",
   "metadata": {},
   "source": [
    "## Testdesign"
   ]
  },
  {
   "cell_type": "markdown",
   "id": "b24b3f9b",
   "metadata": {},
   "source": [
    "### Participants"
   ]
  },
  {
   "cell_type": "markdown",
   "id": "6ec26a75",
   "metadata": {},
   "source": [
    "### Setup"
   ]
  },
  {
   "cell_type": "markdown",
   "id": "9a5ac189",
   "metadata": {},
   "source": [
    "### Variables"
   ]
  },
  {
   "cell_type": "markdown",
   "id": "8d6ab137",
   "metadata": {},
   "source": [
    "## Package import"
   ]
  },
  {
   "cell_type": "code",
   "execution_count": null,
   "id": "f2ebc059",
   "metadata": {},
   "outputs": [],
   "source": [
    "import pandas as pd\n",
    "import matplotlib\n",
    "from matplotlib import pyplot as plt\n",
    "from scipy import stats\n",
    "import numpy as np"
   ]
  },
  {
   "cell_type": "markdown",
   "id": "9e964f0e",
   "metadata": {},
   "source": [
    "## Import data via csv "
   ]
  },
  {
   "cell_type": "code",
   "execution_count": null,
   "id": "4e50106c",
   "metadata": {},
   "outputs": [],
   "source": [
    "#import csv data\n",
    "df_data = pd.read_csv()"
   ]
  },
  {
   "cell_type": "code",
   "execution_count": null,
   "id": "19eb644e",
   "metadata": {},
   "outputs": [],
   "source": []
  }
 ],
 "metadata": {
  "kernelspec": {
   "display_name": "Python 3",
   "language": "python",
   "name": "python3"
  },
  "language_info": {
   "codemirror_mode": {
    "name": "ipython",
    "version": 3
   },
   "file_extension": ".py",
   "mimetype": "text/x-python",
   "name": "python",
   "nbconvert_exporter": "python",
   "pygments_lexer": "ipython3",
   "version": "3.9.5"
  }
 },
 "nbformat": 4,
 "nbformat_minor": 5
}
