{
 "cells": [
  {
   "cell_type": "markdown",
   "id": "bfc48f0b",
   "metadata": {},
   "source": [
    "# Pointing Experiment"
   ]
  },
  {
   "cell_type": "markdown",
   "id": "0d309223",
   "metadata": {},
   "source": [
    "## Testdesign"
   ]
  },
  {
   "cell_type": "markdown",
   "id": "ecc1f807",
   "metadata": {},
   "source": [
    "In our study we wanted to conduct an pointing experiment"
   ]
  },
  {
   "cell_type": "markdown",
   "id": "b24b3f9b",
   "metadata": {},
   "source": [
    "### Participants"
   ]
  },
  {
   "cell_type": "markdown",
   "id": "8edb892d",
   "metadata": {},
   "source": [
    "Due to limited ressources, the study was only conducted by two male participants with good computer knowledge.\n",
    "The small number of participants should be consider in the results. "
   ]
  },
  {
   "cell_type": "markdown",
   "id": "6ec26a75",
   "metadata": {},
   "source": [
    "### Setup"
   ]
  },
  {
   "cell_type": "markdown",
   "id": "9a5ac189",
   "metadata": {},
   "source": [
    "### Variables"
   ]
  },
  {
   "cell_type": "markdown",
   "id": "d6047e5b",
   "metadata": {},
   "source": [
    "Independent variables: \n",
    "    - Order of the tests\n",
    "    \n",
    "Dependent variables: \n",
    "    - reaction time \n",
    "    - errors. \n",
    "    \n",
    "Controlled variables: pointing device (mouse), screen resolution, screen size, screen position, environment."
   ]
  },
  {
   "cell_type": "markdown",
   "id": "8d6ab137",
   "metadata": {},
   "source": [
    "## Package import"
   ]
  },
  {
   "cell_type": "code",
   "execution_count": 1,
   "id": "f2ebc059",
   "metadata": {},
   "outputs": [],
   "source": [
    "import pandas as pd\n",
    "import matplotlib\n",
    "from matplotlib import pyplot as plt\n",
    "from scipy import stats\n",
    "import numpy as np"
   ]
  },
  {
   "cell_type": "markdown",
   "id": "9e964f0e",
   "metadata": {},
   "source": [
    "## Import data via csv"
   ]
  },
  {
   "cell_type": "code",
   "execution_count": 2,
   "id": "4e50106c",
   "metadata": {},
   "outputs": [
    {
     "data": {
      "text/html": [
       "<div>\n",
       "<style scoped>\n",
       "    .dataframe tbody tr th:only-of-type {\n",
       "        vertical-align: middle;\n",
       "    }\n",
       "\n",
       "    .dataframe tbody tr th {\n",
       "        vertical-align: top;\n",
       "    }\n",
       "\n",
       "    .dataframe thead th {\n",
       "        text-align: right;\n",
       "    }\n",
       "</style>\n",
       "<table border=\"1\" class=\"dataframe\">\n",
       "  <thead>\n",
       "    <tr style=\"text-align: right;\">\n",
       "      <th></th>\n",
       "      <th>user_id</th>\n",
       "      <th>current_size</th>\n",
       "      <th>max_size</th>\n",
       "      <th>use_novel_technique</th>\n",
       "      <th>elapsed_repetitions</th>\n",
       "      <th>target</th>\n",
       "      <th>click_offset</th>\n",
       "      <th>distance</th>\n",
       "      <th>time</th>\n",
       "      <th>errors</th>\n",
       "      <th>timestamp</th>\n",
       "    </tr>\n",
       "  </thead>\n",
       "  <tbody>\n",
       "    <tr>\n",
       "      <th>0</th>\n",
       "      <td>1</td>\n",
       "      <td>[10, 5]</td>\n",
       "      <td>1000</td>\n",
       "      <td>True</td>\n",
       "      <td>1</td>\n",
       "      <td>(900.0, 500.0, 75.0)</td>\n",
       "      <td>(0.0, 0.0)</td>\n",
       "      <td>0</td>\n",
       "      <td>735</td>\n",
       "      <td>0</td>\n",
       "      <td>2021-05-12T14:47:01</td>\n",
       "    </tr>\n",
       "    <tr>\n",
       "      <th>1</th>\n",
       "      <td>1</td>\n",
       "      <td>[10, 5]</td>\n",
       "      <td>1000</td>\n",
       "      <td>True</td>\n",
       "      <td>2</td>\n",
       "      <td>(700.0, 900.0, 75.0)</td>\n",
       "      <td>(0.0, 0.0)</td>\n",
       "      <td>0</td>\n",
       "      <td>862</td>\n",
       "      <td>0</td>\n",
       "      <td>2021-05-12T14:47:02</td>\n",
       "    </tr>\n",
       "    <tr>\n",
       "      <th>2</th>\n",
       "      <td>1</td>\n",
       "      <td>[10, 5]</td>\n",
       "      <td>1000</td>\n",
       "      <td>True</td>\n",
       "      <td>3</td>\n",
       "      <td>(700.0, 100.0, 75.0)</td>\n",
       "      <td>(0.0, 0.0)</td>\n",
       "      <td>0</td>\n",
       "      <td>849</td>\n",
       "      <td>0</td>\n",
       "      <td>2021-05-12T14:47:03</td>\n",
       "    </tr>\n",
       "    <tr>\n",
       "      <th>3</th>\n",
       "      <td>1</td>\n",
       "      <td>[10, 5]</td>\n",
       "      <td>1000</td>\n",
       "      <td>True</td>\n",
       "      <td>4</td>\n",
       "      <td>(900.0, 300.0, 75.0)</td>\n",
       "      <td>(0.0, 0.0)</td>\n",
       "      <td>0</td>\n",
       "      <td>792</td>\n",
       "      <td>0</td>\n",
       "      <td>2021-05-12T14:47:04</td>\n",
       "    </tr>\n",
       "    <tr>\n",
       "      <th>4</th>\n",
       "      <td>1</td>\n",
       "      <td>[10, 5]</td>\n",
       "      <td>1000</td>\n",
       "      <td>True</td>\n",
       "      <td>5</td>\n",
       "      <td>(700.0, 900.0, 75.0)</td>\n",
       "      <td>(0.0, 0.0)</td>\n",
       "      <td>0</td>\n",
       "      <td>781</td>\n",
       "      <td>0</td>\n",
       "      <td>2021-05-12T14:47:05</td>\n",
       "    </tr>\n",
       "    <tr>\n",
       "      <th>...</th>\n",
       "      <td>...</td>\n",
       "      <td>...</td>\n",
       "      <td>...</td>\n",
       "      <td>...</td>\n",
       "      <td>...</td>\n",
       "      <td>...</td>\n",
       "      <td>...</td>\n",
       "      <td>...</td>\n",
       "      <td>...</td>\n",
       "      <td>...</td>\n",
       "      <td>...</td>\n",
       "    </tr>\n",
       "    <tr>\n",
       "      <th>115</th>\n",
       "      <td>4</td>\n",
       "      <td>[10, 5]</td>\n",
       "      <td>1000</td>\n",
       "      <td>False</td>\n",
       "      <td>6</td>\n",
       "      <td>(1300.0, 100.0, 75.0)</td>\n",
       "      <td>(-5.0, -29.0)</td>\n",
       "      <td>29</td>\n",
       "      <td>923</td>\n",
       "      <td>0</td>\n",
       "      <td>2021-05-12T14:50:45</td>\n",
       "    </tr>\n",
       "    <tr>\n",
       "      <th>116</th>\n",
       "      <td>4</td>\n",
       "      <td>[10, 5]</td>\n",
       "      <td>1000</td>\n",
       "      <td>False</td>\n",
       "      <td>7</td>\n",
       "      <td>(300.0, 900.0, 75.0)</td>\n",
       "      <td>(-18.0, 11.0)</td>\n",
       "      <td>21</td>\n",
       "      <td>920</td>\n",
       "      <td>0</td>\n",
       "      <td>2021-05-12T14:50:46</td>\n",
       "    </tr>\n",
       "    <tr>\n",
       "      <th>117</th>\n",
       "      <td>4</td>\n",
       "      <td>[10, 5]</td>\n",
       "      <td>1000</td>\n",
       "      <td>False</td>\n",
       "      <td>8</td>\n",
       "      <td>(1900.0, 900.0, 75.0)</td>\n",
       "      <td>(30.0, 33.0)</td>\n",
       "      <td>45</td>\n",
       "      <td>1023</td>\n",
       "      <td>0</td>\n",
       "      <td>2021-05-12T14:50:47</td>\n",
       "    </tr>\n",
       "    <tr>\n",
       "      <th>118</th>\n",
       "      <td>4</td>\n",
       "      <td>[10, 5]</td>\n",
       "      <td>1000</td>\n",
       "      <td>False</td>\n",
       "      <td>9</td>\n",
       "      <td>(1700.0, 700.0, 75.0)</td>\n",
       "      <td>(-23.0, 20.0)</td>\n",
       "      <td>30</td>\n",
       "      <td>1050</td>\n",
       "      <td>0</td>\n",
       "      <td>2021-05-12T14:50:48</td>\n",
       "    </tr>\n",
       "    <tr>\n",
       "      <th>119</th>\n",
       "      <td>4</td>\n",
       "      <td>[10, 5]</td>\n",
       "      <td>1000</td>\n",
       "      <td>False</td>\n",
       "      <td>10</td>\n",
       "      <td>(100.0, 900.0, 75.0)</td>\n",
       "      <td>(-13.0, 19.0)</td>\n",
       "      <td>23</td>\n",
       "      <td>1420</td>\n",
       "      <td>0</td>\n",
       "      <td>2021-05-12T14:50:49</td>\n",
       "    </tr>\n",
       "  </tbody>\n",
       "</table>\n",
       "<p>120 rows × 11 columns</p>\n",
       "</div>"
      ],
      "text/plain": [
       "     user_id current_size  max_size  use_novel_technique  elapsed_repetitions  \\\n",
       "0          1      [10, 5]      1000                 True                    1   \n",
       "1          1      [10, 5]      1000                 True                    2   \n",
       "2          1      [10, 5]      1000                 True                    3   \n",
       "3          1      [10, 5]      1000                 True                    4   \n",
       "4          1      [10, 5]      1000                 True                    5   \n",
       "..       ...          ...       ...                  ...                  ...   \n",
       "115        4      [10, 5]      1000                False                    6   \n",
       "116        4      [10, 5]      1000                False                    7   \n",
       "117        4      [10, 5]      1000                False                    8   \n",
       "118        4      [10, 5]      1000                False                    9   \n",
       "119        4      [10, 5]      1000                False                   10   \n",
       "\n",
       "                    target   click_offset  distance  time  errors  \\\n",
       "0     (900.0, 500.0, 75.0)     (0.0, 0.0)         0   735       0   \n",
       "1     (700.0, 900.0, 75.0)     (0.0, 0.0)         0   862       0   \n",
       "2     (700.0, 100.0, 75.0)     (0.0, 0.0)         0   849       0   \n",
       "3     (900.0, 300.0, 75.0)     (0.0, 0.0)         0   792       0   \n",
       "4     (700.0, 900.0, 75.0)     (0.0, 0.0)         0   781       0   \n",
       "..                     ...            ...       ...   ...     ...   \n",
       "115  (1300.0, 100.0, 75.0)  (-5.0, -29.0)        29   923       0   \n",
       "116   (300.0, 900.0, 75.0)  (-18.0, 11.0)        21   920       0   \n",
       "117  (1900.0, 900.0, 75.0)   (30.0, 33.0)        45  1023       0   \n",
       "118  (1700.0, 700.0, 75.0)  (-23.0, 20.0)        30  1050       0   \n",
       "119   (100.0, 900.0, 75.0)  (-13.0, 19.0)        23  1420       0   \n",
       "\n",
       "               timestamp  \n",
       "0    2021-05-12T14:47:01  \n",
       "1    2021-05-12T14:47:02  \n",
       "2    2021-05-12T14:47:03  \n",
       "3    2021-05-12T14:47:04  \n",
       "4    2021-05-12T14:47:05  \n",
       "..                   ...  \n",
       "115  2021-05-12T14:50:45  \n",
       "116  2021-05-12T14:50:46  \n",
       "117  2021-05-12T14:50:47  \n",
       "118  2021-05-12T14:50:48  \n",
       "119  2021-05-12T14:50:49  \n",
       "\n",
       "[120 rows x 11 columns]"
      ]
     },
     "execution_count": 2,
     "metadata": {},
     "output_type": "execute_result"
    }
   ],
   "source": [
    "#import csv data\n",
    "headerlist= [\"user_id\", \"current_size\", \"max_size\", \"use_novel_technique\",\n",
    "                    \"elapsed_repetitions\", \"target\", \"click_offset\", \"distance\", \"time\",\n",
    "                    \"errors\", \"timestamp\"]\n",
    "\n",
    "df_data = pd.read_csv('result.csv', names= headerlist)\n",
    "df_data"
   ]
  },
  {
   "cell_type": "code",
   "execution_count": 3,
   "id": "19eb644e",
   "metadata": {},
   "outputs": [],
   "source": [
    "#group data per condition\n",
    "df_cond_1 = df_data[df_data['current_size'] == '[10, 5]']\n",
    "df_cond_2 = df_data[df_data['current_size'] == '[20, 10]']\n",
    "df_cond_3 = df_data[df_data['current_size'] == '[8, 4]']"
   ]
  },
  {
   "cell_type": "code",
   "execution_count": 4,
   "id": "d22df824",
   "metadata": {},
   "outputs": [],
   "source": [
    "#group data if novel pointing technique is used or not\n",
    "df_novel_true = df_data[df_data['use_novel_technique'] == True]\n",
    "df_novel_false = df_data[df_data['use_novel_technique'] == False]"
   ]
  },
  {
   "cell_type": "markdown",
   "id": "84aa3a41",
   "metadata": {},
   "source": [
    "## Evaluation"
   ]
  },
  {
   "cell_type": "code",
   "execution_count": null,
   "id": "561cc513",
   "metadata": {},
   "outputs": [],
   "source": []
  }
 ],
 "metadata": {
  "kernelspec": {
   "display_name": "Python 3",
   "language": "python",
   "name": "python3"
  },
  "language_info": {
   "codemirror_mode": {
    "name": "ipython",
    "version": 3
   },
   "file_extension": ".py",
   "mimetype": "text/x-python",
   "name": "python",
   "nbconvert_exporter": "python",
   "pygments_lexer": "ipython3",
   "version": "3.9.5"
  }
 },
 "nbformat": 4,
 "nbformat_minor": 5
}
