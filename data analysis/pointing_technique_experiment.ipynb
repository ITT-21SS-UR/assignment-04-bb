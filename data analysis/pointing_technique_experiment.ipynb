{
 "cells": [
  {
   "cell_type": "markdown",
   "metadata": {},
   "source": [
    "# Pointing Experiment"
   ]
  },
  {
   "cell_type": "markdown",
   "metadata": {},
   "source": [
    "## Testdesign"
   ]
  },
  {
   "cell_type": "markdown",
   "metadata": {},
   "source": [
    "In this study we want to evaluate our newly designed mouse pointing technique for pointing in grid like setups (i.e. Windows Desktop). The technique puts the mouse cursor on the position of the closest target when the left mouse button is clicked. By this we hope to improve pointing time, as users have to be less precise when clicking on targets. For each condition Participants will be presented with a grid of similiar looking targets. One of the targets will then be highlighted. The particpants are instructed to click the highlightes target as fast as they can. Their reaction times will be tested both with the novel pointing technique and without it. Our goal is to measure if the new technique significantly improves  pointing time. Additionally we want to test which technique leads to more errors. Errors are defined by clicks outside the highlighted target.\n",
    "\n",
    "H0: Our novel pointing technique does not affect pointing time, when pointing to a target in a grid like structure.\n",
    "\n",
    "H02: Our novel pointing technique does not affect the amount of errors (clicks outside the target), when pointing on targets in a grid like structure.\n"
   ]
  },
  {
   "cell_type": "markdown",
   "metadata": {},
   "source": [
    "### Participants"
   ]
  },
  {
   "cell_type": "markdown",
   "metadata": {},
   "source": [
    "Due to limited ressources and the current situation we were only able to test two participants.Both participants were male, between 20 and 30 years old and are proficient in working with a mouse and computer. Each of the participants took part in the experiment twice, once with the novel technique and once without.\n",
    "The small number of participants should be considered in the results."
   ]
  },
  {
   "cell_type": "markdown",
   "metadata": {},
   "source": [
    "### Setup\n",
    "The test was split into three conditions, where each condition is represented by the amount of rows and columns of targets.\n",
    "We tested the following conditions (columns,rows): (8,4),(10,5),(20,10).\n",
    "For each condition a grid of targets represented by circles was drawn on the screen. As the screen size stayed the same, more rows and columns means smaller targets. One of the targets was higlighted which the participants were instructed to click on beforehand. This process was repeated 10 times for each condition. Each new repetition was started as soon as the participant successfully clicked on the highlighted target. At the beginning of each repetition the mouse cursor was set to the middle of the screen.\n",
    "Each participant had performed 2 passes of the entire test, so twice for each condition. One pass was performed with the novel pointing technique and one was performed without.\n",
    "We measured the time it took to click on the target for each repetition and also counted errors, so how many times the participant clicked outside the highlighted target before successfully clicking inside it"
   ]
  },
  {
   "cell_type": "markdown",
   "metadata": {},
   "source": [
    "### Variables"
   ]
  },
  {
   "cell_type": "markdown",
   "metadata": {},
   "source": [
    "Independent variables: order of the tests, use of novel technique (on/off)\n",
    "    \n",
    "Dependent variables: reaction time, errors \n",
    "    \n",
    "Controlled variables: pointing device (mouse), screen resolution, screen size, screen position, environment.\n",
    "\n",
    "Possible confounding variables: learning effect, fatigue \n",
    "\n",
    "To counterbalance the confounding variables of fatigue and learning effect both the conditions and the use of the novel technique were counterbalanced. The conditions were balanced by using the latin squares method (reduced form). For the novel technique we simply tested it first for half the participants and tested it second for the other half.\n"
   ]
  },
  {
   "cell_type": "markdown",
   "metadata": {},
   "source": [
    "## Package import"
   ]
  },
  {
   "cell_type": "code",
   "execution_count": 1,
   "metadata": {},
   "outputs": [],
   "source": [
    "import pandas as pd\n",
    "import matplotlib\n",
    "from matplotlib import pyplot as plt\n",
    "from scipy import stats\n",
    "import numpy as np\n",
    "import seaborn as sb"
   ]
  },
  {
   "cell_type": "markdown",
   "metadata": {},
   "source": [
    "## Import data via csv"
   ]
  },
  {
   "cell_type": "code",
   "execution_count": 16,
   "metadata": {},
   "outputs": [
    {
     "data": {
      "text/html": [
       "<div>\n",
       "<style scoped>\n",
       "    .dataframe tbody tr th:only-of-type {\n",
       "        vertical-align: middle;\n",
       "    }\n",
       "\n",
       "    .dataframe tbody tr th {\n",
       "        vertical-align: top;\n",
       "    }\n",
       "\n",
       "    .dataframe thead th {\n",
       "        text-align: right;\n",
       "    }\n",
       "</style>\n",
       "<table border=\"1\" class=\"dataframe\">\n",
       "  <thead>\n",
       "    <tr style=\"text-align: right;\">\n",
       "      <th></th>\n",
       "      <th>user_id</th>\n",
       "      <th>current_size</th>\n",
       "      <th>max_size</th>\n",
       "      <th>use_novel_technique</th>\n",
       "      <th>elapsed_repetitions</th>\n",
       "      <th>target</th>\n",
       "      <th>click_offset</th>\n",
       "      <th>distance</th>\n",
       "      <th>time(ms)</th>\n",
       "      <th>errors</th>\n",
       "      <th>timestamp</th>\n",
       "    </tr>\n",
       "  </thead>\n",
       "  <tbody>\n",
       "    <tr>\n",
       "      <th>0</th>\n",
       "      <td>1</td>\n",
       "      <td>[10, 5]</td>\n",
       "      <td>1000</td>\n",
       "      <td>True</td>\n",
       "      <td>1</td>\n",
       "      <td>(900.0, 500.0, 75.0)</td>\n",
       "      <td>(0.0, 0.0)</td>\n",
       "      <td>0</td>\n",
       "      <td>735</td>\n",
       "      <td>0</td>\n",
       "      <td>2021-05-12T14:47:01</td>\n",
       "    </tr>\n",
       "    <tr>\n",
       "      <th>1</th>\n",
       "      <td>1</td>\n",
       "      <td>[10, 5]</td>\n",
       "      <td>1000</td>\n",
       "      <td>True</td>\n",
       "      <td>2</td>\n",
       "      <td>(700.0, 900.0, 75.0)</td>\n",
       "      <td>(0.0, 0.0)</td>\n",
       "      <td>0</td>\n",
       "      <td>862</td>\n",
       "      <td>0</td>\n",
       "      <td>2021-05-12T14:47:02</td>\n",
       "    </tr>\n",
       "    <tr>\n",
       "      <th>2</th>\n",
       "      <td>1</td>\n",
       "      <td>[10, 5]</td>\n",
       "      <td>1000</td>\n",
       "      <td>True</td>\n",
       "      <td>3</td>\n",
       "      <td>(700.0, 100.0, 75.0)</td>\n",
       "      <td>(0.0, 0.0)</td>\n",
       "      <td>0</td>\n",
       "      <td>849</td>\n",
       "      <td>0</td>\n",
       "      <td>2021-05-12T14:47:03</td>\n",
       "    </tr>\n",
       "    <tr>\n",
       "      <th>3</th>\n",
       "      <td>1</td>\n",
       "      <td>[10, 5]</td>\n",
       "      <td>1000</td>\n",
       "      <td>True</td>\n",
       "      <td>4</td>\n",
       "      <td>(900.0, 300.0, 75.0)</td>\n",
       "      <td>(0.0, 0.0)</td>\n",
       "      <td>0</td>\n",
       "      <td>792</td>\n",
       "      <td>0</td>\n",
       "      <td>2021-05-12T14:47:04</td>\n",
       "    </tr>\n",
       "    <tr>\n",
       "      <th>4</th>\n",
       "      <td>1</td>\n",
       "      <td>[10, 5]</td>\n",
       "      <td>1000</td>\n",
       "      <td>True</td>\n",
       "      <td>5</td>\n",
       "      <td>(700.0, 900.0, 75.0)</td>\n",
       "      <td>(0.0, 0.0)</td>\n",
       "      <td>0</td>\n",
       "      <td>781</td>\n",
       "      <td>0</td>\n",
       "      <td>2021-05-12T14:47:05</td>\n",
       "    </tr>\n",
       "    <tr>\n",
       "      <th>...</th>\n",
       "      <td>...</td>\n",
       "      <td>...</td>\n",
       "      <td>...</td>\n",
       "      <td>...</td>\n",
       "      <td>...</td>\n",
       "      <td>...</td>\n",
       "      <td>...</td>\n",
       "      <td>...</td>\n",
       "      <td>...</td>\n",
       "      <td>...</td>\n",
       "      <td>...</td>\n",
       "    </tr>\n",
       "    <tr>\n",
       "      <th>235</th>\n",
       "      <td>4</td>\n",
       "      <td>[10, 5]</td>\n",
       "      <td>1000</td>\n",
       "      <td>True</td>\n",
       "      <td>6</td>\n",
       "      <td>(1900.0, 300.0, 75.0)</td>\n",
       "      <td>(0.0, 0.0)</td>\n",
       "      <td>0</td>\n",
       "      <td>1322</td>\n",
       "      <td>0</td>\n",
       "      <td>2021-05-12T16:26:29</td>\n",
       "    </tr>\n",
       "    <tr>\n",
       "      <th>236</th>\n",
       "      <td>4</td>\n",
       "      <td>[10, 5]</td>\n",
       "      <td>1000</td>\n",
       "      <td>True</td>\n",
       "      <td>7</td>\n",
       "      <td>(1100.0, 100.0, 75.0)</td>\n",
       "      <td>(0.0, 0.0)</td>\n",
       "      <td>0</td>\n",
       "      <td>1193</td>\n",
       "      <td>0</td>\n",
       "      <td>2021-05-12T16:26:31</td>\n",
       "    </tr>\n",
       "    <tr>\n",
       "      <th>237</th>\n",
       "      <td>4</td>\n",
       "      <td>[10, 5]</td>\n",
       "      <td>1000</td>\n",
       "      <td>True</td>\n",
       "      <td>8</td>\n",
       "      <td>(300.0, 700.0, 75.0)</td>\n",
       "      <td>(0.0, 0.0)</td>\n",
       "      <td>0</td>\n",
       "      <td>957</td>\n",
       "      <td>0</td>\n",
       "      <td>2021-05-12T16:26:32</td>\n",
       "    </tr>\n",
       "    <tr>\n",
       "      <th>238</th>\n",
       "      <td>4</td>\n",
       "      <td>[10, 5]</td>\n",
       "      <td>1000</td>\n",
       "      <td>True</td>\n",
       "      <td>9</td>\n",
       "      <td>(900.0, 100.0, 75.0)</td>\n",
       "      <td>(0.0, 0.0)</td>\n",
       "      <td>0</td>\n",
       "      <td>783</td>\n",
       "      <td>0</td>\n",
       "      <td>2021-05-12T16:26:32</td>\n",
       "    </tr>\n",
       "    <tr>\n",
       "      <th>239</th>\n",
       "      <td>4</td>\n",
       "      <td>[10, 5]</td>\n",
       "      <td>1000</td>\n",
       "      <td>True</td>\n",
       "      <td>10</td>\n",
       "      <td>(1100.0, 100.0, 75.0)</td>\n",
       "      <td>(0.0, 0.0)</td>\n",
       "      <td>0</td>\n",
       "      <td>889</td>\n",
       "      <td>0</td>\n",
       "      <td>2021-05-12T16:26:33</td>\n",
       "    </tr>\n",
       "  </tbody>\n",
       "</table>\n",
       "<p>240 rows × 11 columns</p>\n",
       "</div>"
      ],
      "text/plain": [
       "     user_id current_size  max_size  use_novel_technique  elapsed_repetitions  \\\n",
       "0          1      [10, 5]      1000                 True                    1   \n",
       "1          1      [10, 5]      1000                 True                    2   \n",
       "2          1      [10, 5]      1000                 True                    3   \n",
       "3          1      [10, 5]      1000                 True                    4   \n",
       "4          1      [10, 5]      1000                 True                    5   \n",
       "..       ...          ...       ...                  ...                  ...   \n",
       "235        4      [10, 5]      1000                 True                    6   \n",
       "236        4      [10, 5]      1000                 True                    7   \n",
       "237        4      [10, 5]      1000                 True                    8   \n",
       "238        4      [10, 5]      1000                 True                    9   \n",
       "239        4      [10, 5]      1000                 True                   10   \n",
       "\n",
       "                    target click_offset  distance  time(ms)  errors  \\\n",
       "0     (900.0, 500.0, 75.0)   (0.0, 0.0)         0       735       0   \n",
       "1     (700.0, 900.0, 75.0)   (0.0, 0.0)         0       862       0   \n",
       "2     (700.0, 100.0, 75.0)   (0.0, 0.0)         0       849       0   \n",
       "3     (900.0, 300.0, 75.0)   (0.0, 0.0)         0       792       0   \n",
       "4     (700.0, 900.0, 75.0)   (0.0, 0.0)         0       781       0   \n",
       "..                     ...          ...       ...       ...     ...   \n",
       "235  (1900.0, 300.0, 75.0)   (0.0, 0.0)         0      1322       0   \n",
       "236  (1100.0, 100.0, 75.0)   (0.0, 0.0)         0      1193       0   \n",
       "237   (300.0, 700.0, 75.0)   (0.0, 0.0)         0       957       0   \n",
       "238   (900.0, 100.0, 75.0)   (0.0, 0.0)         0       783       0   \n",
       "239  (1100.0, 100.0, 75.0)   (0.0, 0.0)         0       889       0   \n",
       "\n",
       "               timestamp  \n",
       "0    2021-05-12T14:47:01  \n",
       "1    2021-05-12T14:47:02  \n",
       "2    2021-05-12T14:47:03  \n",
       "3    2021-05-12T14:47:04  \n",
       "4    2021-05-12T14:47:05  \n",
       "..                   ...  \n",
       "235  2021-05-12T16:26:29  \n",
       "236  2021-05-12T16:26:31  \n",
       "237  2021-05-12T16:26:32  \n",
       "238  2021-05-12T16:26:32  \n",
       "239  2021-05-12T16:26:33  \n",
       "\n",
       "[240 rows x 11 columns]"
      ]
     },
     "execution_count": 16,
     "metadata": {},
     "output_type": "execute_result"
    }
   ],
   "source": [
    "#import csv data\n",
    "headerlist= [\"user_id\", \"current_size\", \"max_size\", \"use_novel_technique\",\n",
    "                    \"elapsed_repetitions\", \"target\", \"click_offset\", \"distance\", \"time(ms)\",\n",
    "                    \"errors\", \"timestamp\"]\n",
    "\n",
    "df_data = pd.read_csv('result.csv', names= headerlist)\n",
    "df_data"
   ]
  },
  {
   "cell_type": "code",
   "execution_count": 17,
   "metadata": {},
   "outputs": [],
   "source": [
    "#group data per condition\n",
    "df_cond_1 = df_data[df_data['current_size'] == '[10, 5]']\n",
    "df_cond_2 = df_data[df_data['current_size'] == '[20, 10]']\n",
    "df_cond_3 = df_data[df_data['current_size'] == '[8, 4]']"
   ]
  },
  {
   "cell_type": "code",
   "execution_count": 18,
   "metadata": {},
   "outputs": [],
   "source": [
    "#group data if novel pointing technique is used or not\n",
    "df_novel_true = df_data[df_data['use_novel_technique'] == True]\n",
    "df_novel_false = df_data[df_data['use_novel_technique'] == False]"
   ]
  },
  {
   "cell_type": "markdown",
   "metadata": {},
   "source": [
    "## Evaluation"
   ]
  },
  {
   "cell_type": "markdown",
   "metadata": {},
   "source": [
    "### Completion time per condition without novel technique"
   ]
  },
  {
   "cell_type": "code",
   "execution_count": 19,
   "metadata": {},
   "outputs": [],
   "source": [
    "cond1_novel_false = df_cond_1['time(ms)'][df_cond_1['use_novel_technique'] == False]\n",
    "cond2_novel_false = df_cond_2['time(ms)'][df_cond_2['use_novel_technique'] == False]\n",
    "cond3_novel_false = df_cond_3['time(ms)'][df_cond_3['use_novel_technique'] == False]"
   ]
  },
  {
   "cell_type": "code",
   "execution_count": 20,
   "metadata": {},
   "outputs": [
    {
     "data": {
      "image/png": "[encoded data removed]",
      "text/plain": [
       "<Figure size 432x288 with 1 Axes>"
      ]
     },
     "metadata": {
      "needs_background": "light"
     },
     "output_type": "display_data"
    }
   ],
   "source": [
    "# boxplot\n",
    "plt.boxplot([cond1_novel_false, cond2_novel_false, cond3_novel_false])\n",
    "plt.title('Completion time per condition without novel technique')\n",
    "plt.xlabel('conditions')\n",
    "plt.ylabel('completion time in ms')\n",
    "plt.savefig('time_per_cond_without_novel_technique.pdf')"
   ]
  },
  {
   "cell_type": "code",
   "execution_count": 42,
   "metadata": {},
   "outputs": [],
   "source": [
    "cond1_novel_true = df_cond_1['time(ms)'][df_cond_1['use_novel_technique'] == True]\n",
    "cond2_novel_true = df_cond_2['time(ms)'][df_cond_2['use_novel_technique'] == True]\n",
    "cond3_novel_true = df_cond_3['time(ms)'][df_cond_3['use_novel_technique'] == True]"
   ]
  },
  {
   "cell_type": "code",
   "execution_count": 44,
   "metadata": {},
   "outputs": [
    {
     "data": {
      "image/png": "[encoded data removed]",
      "text/plain": [
       "<Figure size 432x288 with 1 Axes>"
      ]
     },
     "metadata": {
      "needs_background": "light"
     },
     "output_type": "display_data"
    }
   ],
   "source": [
    "# boxplot\n",
    "plt.boxplot([cond1_novel_true, cond2_novel_true, cond3_novel_true])\n",
    "plt.title('Completion time per condition with novel technique')\n",
    "plt.xlabel('conditions')\n",
    "plt.ylabel('completion time in ms')\n",
    "plt.savefig('time_per_cond_with_novel_technique.pdf')"
   ]
  },
  {
   "cell_type": "markdown",
   "metadata": {},
   "source": [
    "### Completion time per condition and user without novel technique"
   ]
  },
  {
   "cell_type": "code",
   "execution_count": 22,
   "metadata": {},
   "outputs": [],
   "source": [
    "cond_user1_novel_false = df_novel_false['current_size'][df_novel_false['user_id'] == 1]\n",
    "cond_user1_time_novel_false = df_novel_false['time(ms)'][df_novel_false['user_id'] == 1]\n",
    "cond_user2_novel_false = df_novel_false['current_size'][df_novel_false['user_id'] == 2]\n",
    "cond_user2_time_novel_false= df_novel_false['time(ms)'][df_novel_false['user_id'] == 2]\n",
    "cond_user3_novel_false = df_novel_false['current_size'][df_novel_false['user_id'] == 3]\n",
    "cond_user3_time_novel_false = df_novel_false['time(ms)'][df_novel_false['user_id'] == 3]\n",
    "cond_user4_novel_false = df_novel_false['current_size'][df_novel_false['user_id'] == 4]\n",
    "cond_user4_time_novel_false = df_novel_false['time(ms)'][df_novel_false['user_id'] == 4]"
   ]
  },
  {
   "cell_type": "code",
   "execution_count": 23,
   "metadata": {
    "scrolled": true
   },
   "outputs": [
    {
     "data": {
      "image/png": "[encoded data removed]",
      "text/plain": [
       "<Figure size 432x288 with 1 Axes>"
      ]
     },
     "metadata": {
      "needs_background": "light"
     },
     "output_type": "display_data"
    }
   ],
   "source": [
    "plt.scatter(cond_user1_novel_false, cond_user1_time_novel_false, label='user1')\n",
    "plt.scatter(cond_user2_novel_false, cond_user2_time_novel_false, label='user2')\n",
    "plt.scatter(cond_user3_novel_false, cond_user3_time_novel_false, label='user3')\n",
    "plt.scatter(cond_user4_novel_false, cond_user4_time_novel_false, label='user4')\n",
    "plt.legend(loc=1)\n",
    "plt.title('Completion time per condition and per user without novel technique')\n",
    "plt.xlabel('conditions')\n",
    "plt.ylabel('completion time in ms')\n",
    "plt.xticks([\"[20, 10]\", \"[8, 4]\", \"[10, 5]\"], [1, 2, 3])\n",
    "plt.xlim(-1, 3)\n",
    "plt.savefig('time_per_cond_and_user_without_improv.pdf')"
   ]
  },
  {
   "cell_type": "markdown",
   "metadata": {},
   "source": [
    "### Errors per condition without improvement"
   ]
  },
  {
   "cell_type": "code",
   "execution_count": 24,
   "metadata": {},
   "outputs": [],
   "source": [
    "cond1_err_false = df_novel_false['errors'][df_novel_false['current_size'] == \"[20, 10]\"][df_novel_false['errors'] == 0].count() \n",
    "cond1_err_true = df_novel_false['errors'][df_novel_false['current_size'] == \"[20, 10]\"][df_novel_false['errors'] == 1].count()\n",
    "cond2_err_false = df_novel_false['errors'][df_novel_false['current_size'] == \"[8, 4]\"][df_novel_false['errors'] == 0].count()\n",
    "cond2_err_true = df_novel_false['errors'][df_novel_false['current_size'] == \"[8, 4]\"][df_novel_false['errors'] == 1].count()\n",
    "cond3_err_false = df_novel_false['errors'][df_novel_false['current_size'] ==\"[10, 5]\"][df_novel_false['errors'] == 0].count()\n",
    "cond3_err_true = df_novel_false['errors'][df_novel_false['current_size'] == \"[10, 5]\"][df_novel_false['errors'] == 1].count()"
   ]
  },
  {
   "cell_type": "code",
   "execution_count": 25,
   "metadata": {},
   "outputs": [
    {
     "data": {
      "image/png": "[encoded data removed]",
      "text/plain": [
       "<Figure size 432x288 with 1 Axes>"
      ]
     },
     "metadata": {
      "needs_background": "light"
     },
     "output_type": "display_data"
    }
   ],
   "source": [
    "err_cond=[1,2,3]\n",
    "plt.bar(err_cond, (cond1_err_false, cond2_err_false, cond3_err_false), label='error')\n",
    "plt.bar(err_cond, (cond1_err_true, cond2_err_true , cond3_err_true), bottom=(cond1_err_false, cond2_err_false, cond3_err_false), label='no error')\n",
    "plt.title('Error per condition without novel technique')\n",
    "plt.xlabel('conditions')\n",
    "plt.ylabel('errors')\n",
    "plt.legend()\n",
    "plt.xticks([1, 2, 3], [1, 2, 3])\n",
    "plt.xlim(0.5, 3.5)\n",
    "plt.savefig('error_per_cond_without_novel.pdf')"
   ]
  },
  {
   "cell_type": "code",
   "execution_count": 26,
   "metadata": {},
   "outputs": [
    {
     "data": {
      "text/plain": [
       "0       735\n",
       "1       862\n",
       "2       849\n",
       "3       792\n",
       "4       781\n",
       "       ... \n",
       "235    1322\n",
       "236    1193\n",
       "237     957\n",
       "238     783\n",
       "239     889\n",
       "Name: time(ms), Length: 120, dtype: int64"
      ]
     },
     "execution_count": 26,
     "metadata": {},
     "output_type": "execute_result"
    }
   ],
   "source": [
    "cond_novel_false = df_novel_false['current_size']\n",
    "cond_time_novel_false = df_novel_false['time(ms)']\n",
    "cond_novel_true = df_novel_true['current_size']\n",
    "cond_time_novel_true = df_novel_true['time(ms)']\n",
    "cond_time_novel_true"
   ]
  },
  {
   "cell_type": "code",
   "execution_count": 27,
   "metadata": {},
   "outputs": [
    {
     "data": {
      "image/png": "[encoded data removed]",
      "text/plain": [
       "<Figure size 432x288 with 1 Axes>"
      ]
     },
     "metadata": {
      "needs_background": "light"
     },
     "output_type": "display_data"
    }
   ],
   "source": [
    "plt.scatter(cond_novel_true, cond_time_novel_true, label='true')\n",
    "plt.scatter(cond_novel_false, cond_time_novel_false, label='false')\n",
    "plt.legend(loc=1)\n",
    "plt.title('Completion time per condition and per user with and without novel technique')\n",
    "plt.xlabel('conditions')\n",
    "plt.ylabel('completion time in ms')\n",
    "plt.xticks([\"[20, 10]\", \"[8, 4]\", \"[10, 5]\"], [1, 2, 3])\n",
    "plt.xlim(-1, 3)\n",
    "plt.savefig('time_per_cond_and_user_with_or_without_novel.pdf')"
   ]
  },
  {
   "cell_type": "code",
   "execution_count": null,
   "metadata": {},
   "outputs": [],
   "source": []
  },
  {
   "cell_type": "markdown",
   "metadata": {},
   "source": [
    "## Statistical test"
   ]
  },
  {
   "cell_type": "code",
   "execution_count": 29,
   "metadata": {},
   "outputs": [],
   "source": [
    "x1 = df_novel_true[\"time(ms)\"]\n",
    "x2 = df_novel_false[\"time(ms)\"]"
   ]
  },
  {
   "cell_type": "code",
   "execution_count": 30,
   "metadata": {},
   "outputs": [
    {
     "data": {
      "text/plain": [
       "Ttest_relResult(statistic=-2.6251755822521465, pvalue=0.009797099400474137)"
      ]
     },
     "execution_count": 30,
     "metadata": {},
     "output_type": "execute_result"
    }
   ],
   "source": [
    "stats.ttest_rel(x1,x2)"
   ]
  },
  {
   "cell_type": "code",
   "execution_count": 36,
   "metadata": {},
   "outputs": [
    {
     "name": "stdout",
     "output_type": "stream",
     "text": [
      "With Novel Technique: (M = 1024.51 SD = 209.31)\n",
      "Without Novel Technique: (M = 1107.76 SD = 248.4)\n"
     ]
    }
   ],
   "source": [
    "print(\"With Novel Technique: (M = {} SD = {})\".format(round(np.mean(x1),2), round(np.std(x1),2)))\n",
    "print(\"Without Novel Technique: (M = {} SD = {})\".format(round(np.mean(x2),2), round(np.std(x2),2)))"
   ]
  },
  {
   "cell_type": "code",
   "execution_count": 37,
   "metadata": {},
   "outputs": [],
   "source": [
    "y1 = df_novel_true[\"errors\"]\n",
    "y2 = df_novel_false[\"errors\"]"
   ]
  },
  {
   "cell_type": "code",
   "execution_count": 39,
   "metadata": {},
   "outputs": [
    {
     "data": {
      "text/plain": [
       "Ttest_relResult(statistic=-2.352633358798228, pvalue=0.020282375153148874)"
      ]
     },
     "execution_count": 39,
     "metadata": {},
     "output_type": "execute_result"
    }
   ],
   "source": [
    "stats.ttest_rel(y1,y2)"
   ]
  },
  {
   "cell_type": "code",
   "execution_count": 41,
   "metadata": {},
   "outputs": [
    {
     "name": "stdout",
     "output_type": "stream",
     "text": [
      "With Novel Technique: (M = 0.02 SD = 0.13)\n",
      "Without Novel Technique: (M = 0.08 SD = 0.28)\n"
     ]
    }
   ],
   "source": [
    "print(\"With Novel Technique: (M = {} SD = {})\".format(round(np.mean(y1),2), round(np.std(y1),2)))\n",
    "print(\"Without Novel Technique: (M = {} SD = {})\".format(round(np.mean(y2),2), round(np.std(y2),2)))"
   ]
  },
  {
   "cell_type": "markdown",
   "metadata": {},
   "source": [
    "## Conclusion"
   ]
  },
  {
   "cell_type": "markdown",
   "metadata": {},
   "source": []
  }
 ],
 "metadata": {
  "kernelspec": {
   "display_name": "Python 3",
   "language": "python",
   "name": "python3"
  },
  "language_info": {
   "codemirror_mode": {
    "name": "ipython",
    "version": 3
   },
   "file_extension": ".py",
   "mimetype": "text/x-python",
   "name": "python",
   "nbconvert_exporter": "python",
   "pygments_lexer": "ipython3",
   "version": "3.7.3"
  }
 },
 "nbformat": 4,
 "nbformat_minor": 5
}
